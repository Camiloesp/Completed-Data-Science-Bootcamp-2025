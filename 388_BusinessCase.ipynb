{
 "cells": [
  {
   "cell_type": "markdown",
   "id": "bba416b6",
   "metadata": {},
   "source": [
    "# Practical example. Audiobooks #"
   ]
  },
  {
   "cell_type": "markdown",
   "id": "f574b668",
   "metadata": {},
   "source": [
    "Create a machine learning algorithm that can predict if a customer will buy again. Classification problem with 2 classes. Wont buy and will buy.\n",
    "Use the Audiobooks_data.csv dataset. \n",
    "\n",
    "Action Plan:\n",
    "1) Preprocess the data.\n",
    "    - Balance the dataset\n",
    "    - Divide the dataset in training, validation, and test. (Prevent overfitting)\n",
    "    - Save the data in a tensor friendly format. (.npz file type)\n",
    "2) Create the machine learning algorithm\n",
    "\n",
    "\n",
    "We will need to preprocess a bit. This is the relevant code, but refers to data engineering more than machine learning."
   ]
  },
  {
   "cell_type": "markdown",
   "id": "3707e62a",
   "metadata": {},
   "source": [
    "## Extract the data from csv ##"
   ]
  },
  {
   "cell_type": "code",
   "execution_count": 1,
   "id": "fd079e65",
   "metadata": {},
   "outputs": [],
   "source": [
    "import numpy as np\n",
    "from sklearn import preprocessing # pip install scikit-learn\n",
    "\n",
    "raw_csv_data = np.loadtxt('Resources/Audiobooks_data.csv', delimiter=',')\n",
    "unscaled_inputs_all = raw_csv_data[:,1:-1]\n",
    "targets_all = raw_csv_data[:,-1]"
   ]
  },
  {
   "cell_type": "markdown",
   "id": "83ca7391",
   "metadata": {},
   "source": [
    "## Balance the dataset ##"
   ]
  },
  {
   "cell_type": "code",
   "execution_count": 2,
   "id": "d92661f2",
   "metadata": {},
   "outputs": [],
   "source": [
    "# Count the number of targets that are '1'. We picked 1 instead of 0 because we know there are less 1s than 0s. Keep as many 0s as 1s\n",
    "num_one_targets = int(np.sum(targets_all))\n",
    "zero_targets_counter = 0\n",
    "indices_to_remove = []\n",
    "\n",
    "for i in range(targets_all.shape[0]):\n",
    "    if targets_all[i] == 0:\n",
    "        zero_targets_counter+=1\n",
    "        if zero_targets_counter > num_one_targets:\n",
    "            indices_to_remove.append(i)\n",
    "            \n",
    "unscaled_inputs_equal_priors = np.delete(unscaled_inputs_all, indices_to_remove, axis=0)\n",
    "targets_equal_priors = np.delete(targets_all, indices_to_remove, axis=0)"
   ]
  },
  {
   "cell_type": "markdown",
   "id": "6d09c2f2",
   "metadata": {},
   "source": [
    "## Standardize the inputs ##"
   ]
  },
  {
   "cell_type": "code",
   "execution_count": 3,
   "id": "c8465814",
   "metadata": {},
   "outputs": [],
   "source": [
    "scaled_inputs = preprocessing.scale(unscaled_inputs_equal_priors)"
   ]
  },
  {
   "cell_type": "markdown",
   "id": "53b9cb7b",
   "metadata": {},
   "source": [
    "## Shuffle the data ##"
   ]
  },
  {
   "cell_type": "code",
   "execution_count": 4,
   "id": "0240e753",
   "metadata": {},
   "outputs": [],
   "source": [
    "shuffled_indices = np.arange(scaled_inputs.shape[0])\n",
    "np.random.shuffle(shuffled_indices)\n",
    "\n",
    "shuffled_inputs = scaled_inputs[shuffled_indices]\n",
    "shuffled_targets = targets_equal_priors[shuffled_indices]"
   ]
  },
  {
   "cell_type": "markdown",
   "id": "59b97e54",
   "metadata": {},
   "source": [
    "## Split the dataset into train, validation, and test"
   ]
  },
  {
   "cell_type": "code",
   "execution_count": 5,
   "id": "30d3714f",
   "metadata": {},
   "outputs": [
    {
     "name": "stdout",
     "output_type": "stream",
     "text": [
      "1808.0 3579 0.5051690416317407\n",
      "222.0 447 0.4966442953020134\n",
      "207.0 448 0.46205357142857145\n"
     ]
    }
   ],
   "source": [
    "samples_count = shuffled_inputs.shape[0]\n",
    "\n",
    "# Use the 80-10-10 split for train, validation, and test\n",
    "train_samples_count = int(0.8*samples_count)\n",
    "validation_samples_count = int(0.1*samples_count)\n",
    "test_samples_count = samples_count - train_samples_count - validation_samples_count\n",
    "\n",
    "train_inputs = shuffled_inputs[:train_samples_count]\n",
    "train_targets = shuffled_targets[:train_samples_count]\n",
    "\n",
    "validation_inputs = shuffled_inputs[train_samples_count:train_samples_count+validation_samples_count]\n",
    "validation_targets = shuffled_targets[train_samples_count:train_samples_count+validation_samples_count]\n",
    "\n",
    "test_inputs = shuffled_inputs[train_samples_count+validation_samples_count:]\n",
    "test_targets = shuffled_targets[train_samples_count+validation_samples_count:]\n",
    "\n",
    "print(np.sum(train_targets), train_samples_count, np.sum(train_targets) / train_samples_count)\n",
    "print(np.sum(validation_targets), validation_samples_count, np.sum(validation_targets) / validation_samples_count)\n",
    "print(np.sum(test_targets), test_samples_count, np.sum(test_targets) / test_samples_count)"
   ]
  },
  {
   "cell_type": "markdown",
   "id": "ae2ce621",
   "metadata": {},
   "source": [
    "## Save the tree datasets in *.npz ##"
   ]
  },
  {
   "cell_type": "code",
   "execution_count": 6,
   "id": "4b1986c8",
   "metadata": {},
   "outputs": [],
   "source": [
    "np.savez('Resources/Audiobooks_data_train', inputs=train_inputs, targets=train_targets)\n",
    "np.savez('Resources/Audiobooks_data_validation', inputs=validation_inputs, targets=validation_targets)\n",
    "np.savez('Resources/Audiobooks_data_test', inputs=test_inputs, targets=test_targets)"
   ]
  },
  {
   "cell_type": "markdown",
   "id": "91f1a633",
   "metadata": {},
   "source": [
    "# -------------------------------- Create the Machine Learning Algorithm --------------------------------"
   ]
  },
  {
   "cell_type": "code",
   "execution_count": 7,
   "id": "59328158",
   "metadata": {},
   "outputs": [],
   "source": [
    "import tensorflow as tf"
   ]
  },
  {
   "cell_type": "markdown",
   "id": "ce4d51ba",
   "metadata": {},
   "source": [
    "## Data"
   ]
  },
  {
   "cell_type": "code",
   "execution_count": 18,
   "id": "425b4849",
   "metadata": {},
   "outputs": [],
   "source": [
    "npz = np.load('Resources/Audiobooks_data_train.npz')\n",
    "train_inputs = npz['inputs'].astype(np.float64)\n",
    "train_targets = npz['targets'].astype(np.int64)\n",
    "#print(type(npz))\n",
    "#print(f\"Input type: {str(type(train_inputs))}    target type: {str(type(train_targets))}\")\n",
    "\n",
    "npz = np.load('Resources/Audiobooks_data_validation.npz')\n",
    "validation_inputs = npz['inputs'].astype(np.float64)\n",
    "validation_targets = npz['targets'].astype(np.int64)\n",
    "\n",
    "# test data hw\n",
    "npz = np.load('Resources/Audiobooks_data_test.npz')\n",
    "test_inputs = npz['inputs'].astype(np.float64)\n",
    "test_targets = npz['targets'].astype(np.int64)"
   ]
  },
  {
   "cell_type": "markdown",
   "id": "86fc3037",
   "metadata": {},
   "source": [
    "## Model"
   ]
  },
  {
   "cell_type": "markdown",
   "id": "103439fe",
   "metadata": {},
   "source": [
    "Outline, optimizers, loss, early stopping and training"
   ]
  },
  {
   "cell_type": "code",
   "execution_count": 29,
   "id": "0f0516cc",
   "metadata": {},
   "outputs": [
    {
     "name": "stdout",
     "output_type": "stream",
     "text": [
      "Epoch 1/100\n",
      "36/36 - 0s - 13ms/step - accuracy: 0.6695 - loss: 0.5967 - val_accuracy: 0.7338 - val_loss: 0.5014\n",
      "Epoch 2/100\n",
      "36/36 - 0s - 2ms/step - accuracy: 0.7617 - loss: 0.4631 - val_accuracy: 0.7584 - val_loss: 0.4368\n",
      "Epoch 3/100\n",
      "36/36 - 0s - 2ms/step - accuracy: 0.7868 - loss: 0.4123 - val_accuracy: 0.7606 - val_loss: 0.4092\n",
      "Epoch 4/100\n",
      "36/36 - 0s - 2ms/step - accuracy: 0.7826 - loss: 0.3930 - val_accuracy: 0.7830 - val_loss: 0.3843\n",
      "Epoch 5/100\n",
      "36/36 - 0s - 2ms/step - accuracy: 0.8036 - loss: 0.3753 - val_accuracy: 0.7919 - val_loss: 0.3772\n",
      "Epoch 6/100\n",
      "36/36 - 0s - 2ms/step - accuracy: 0.8128 - loss: 0.3640 - val_accuracy: 0.7942 - val_loss: 0.3677\n",
      "Epoch 7/100\n",
      "36/36 - 0s - 2ms/step - accuracy: 0.8164 - loss: 0.3561 - val_accuracy: 0.7964 - val_loss: 0.3622\n",
      "Epoch 8/100\n",
      "36/36 - 0s - 2ms/step - accuracy: 0.8111 - loss: 0.3525 - val_accuracy: 0.7942 - val_loss: 0.3543\n",
      "Epoch 9/100\n",
      "36/36 - 0s - 2ms/step - accuracy: 0.8122 - loss: 0.3490 - val_accuracy: 0.8121 - val_loss: 0.3495\n",
      "Epoch 10/100\n",
      "36/36 - 0s - 2ms/step - accuracy: 0.8209 - loss: 0.3409 - val_accuracy: 0.8188 - val_loss: 0.3492\n",
      "Epoch 11/100\n",
      "36/36 - 0s - 2ms/step - accuracy: 0.8240 - loss: 0.3369 - val_accuracy: 0.8166 - val_loss: 0.3480\n",
      "Epoch 12/100\n",
      "36/36 - 0s - 2ms/step - accuracy: 0.8173 - loss: 0.3365 - val_accuracy: 0.8121 - val_loss: 0.3378\n",
      "Epoch 13/100\n",
      "36/36 - 0s - 2ms/step - accuracy: 0.8212 - loss: 0.3334 - val_accuracy: 0.8076 - val_loss: 0.3374\n",
      "Epoch 14/100\n",
      "36/36 - 0s - 2ms/step - accuracy: 0.8198 - loss: 0.3332 - val_accuracy: 0.8121 - val_loss: 0.3381\n",
      "Epoch 15/100\n",
      "36/36 - 0s - 2ms/step - accuracy: 0.8237 - loss: 0.3301 - val_accuracy: 0.8143 - val_loss: 0.3438\n"
     ]
    },
    {
     "data": {
      "text/plain": [
       "<keras.src.callbacks.history.History at 0x209103f4be0>"
      ]
     },
     "execution_count": 29,
     "metadata": {},
     "output_type": "execute_result"
    }
   ],
   "source": [
    "# Outline\n",
    "input_size = 10\n",
    "output_size = 2\n",
    "hidden_layer_size = 50\n",
    "\n",
    "model = tf.keras.Sequential([\n",
    "    tf.keras.layers.Dense(hidden_layer_size, activation='relu'),\n",
    "    tf.keras.layers.Dense(hidden_layer_size, activation='relu'),\n",
    "    tf.keras.layers.Dense(output_size, activation='softmax')\n",
    "])\n",
    "\n",
    "# Optimizer and loss function\n",
    "model.compile(optimizer='adam', loss='sparse_categorical_crossentropy', metrics=['accuracy'])\n",
    "\n",
    "# early stopping and training\n",
    "batch_size = 100\n",
    "max_epochs = 100\n",
    "early_stopping = tf.keras.callbacks.EarlyStopping(patience=2)\n",
    "\n",
    "model.fit(\n",
    "    train_inputs, \n",
    "    train_targets, \n",
    "    batch_size=batch_size, \n",
    "    epochs=max_epochs,\n",
    "    callbacks=[early_stopping],\n",
    "    validation_data=(validation_inputs, validation_targets),\n",
    "    verbose=2\n",
    ")"
   ]
  },
  {
   "cell_type": "markdown",
   "id": "6bcad8ea",
   "metadata": {},
   "source": [
    "## Test the model"
   ]
  },
  {
   "cell_type": "code",
   "execution_count": 31,
   "id": "c8e76c07",
   "metadata": {},
   "outputs": [
    {
     "name": "stdout",
     "output_type": "stream",
     "text": [
      "\u001b[1m14/14\u001b[0m \u001b[32m━━━━━━━━━━━━━━━━━━━━\u001b[0m\u001b[37m\u001b[0m \u001b[1m0s\u001b[0m 2ms/step - accuracy: 0.7719 - loss: 0.3743 \n"
     ]
    }
   ],
   "source": [
    "test_loss, test_accuracy = model.evaluate(test_inputs, test_targets)"
   ]
  },
  {
   "cell_type": "code",
   "execution_count": 37,
   "id": "e482a47d",
   "metadata": {},
   "outputs": [
    {
     "name": "stdout",
     "output_type": "stream",
     "text": [
      "\n",
      "Test loss: 0.37. Test accuracy: 79.02%\n"
     ]
    }
   ],
   "source": [
    "print(f\"\\nTest loss: {test_loss:.2f}. Test accuracy: {test_accuracy*100:.2f}%\")"
   ]
  }
 ],
 "metadata": {
  "kernelspec": {
   "display_name": "venv",
   "language": "python",
   "name": "python3"
  },
  "language_info": {
   "codemirror_mode": {
    "name": "ipython",
    "version": 3
   },
   "file_extension": ".py",
   "mimetype": "text/x-python",
   "name": "python",
   "nbconvert_exporter": "python",
   "pygments_lexer": "ipython3",
   "version": "3.10.0"
  }
 },
 "nbformat": 4,
 "nbformat_minor": 5
}
