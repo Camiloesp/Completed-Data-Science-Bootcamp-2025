{
 "cells": [
  {
   "cell_type": "code",
   "execution_count": 3,
   "id": "6ae90b19-ef11-4df8-95ab-d6f467b7efe1",
   "metadata": {},
   "outputs": [],
   "source": [
    "import numpy as np        # allows us to work with multi-dimensional arrays\n",
    "import pandas as pd       # Enhances numpy. used for data manipulation and analysis and attaches labels to rows and columns in a table\n",
    "import scipy              # numpy, pandas, matplotlib are part of larger scipy group library. Python ecosystem for scientific calculations\n",
    "import statsmodels.api as sm    # Package built on top of numpy, scipy which integrates with pandas  \n",
    "import matplotlib as plt  # 2D plotting library designed for visualization of numpy computations\n",
    "import seaborn as sns     # Visualization library based on matplotlib but provides a high level interface for drawing attractive statistic graphs\n",
    "import sklearn            # Most widely used ML libraries"
   ]
  }
 ],
 "metadata": {
  "kernelspec": {
   "display_name": "Python [conda env:base] *",
   "language": "python",
   "name": "conda-base-py"
  },
  "language_info": {
   "codemirror_mode": {
    "name": "ipython",
    "version": 3
   },
   "file_extension": ".py",
   "mimetype": "text/x-python",
   "name": "python",
   "nbconvert_exporter": "python",
   "pygments_lexer": "ipython3",
   "version": "3.12.7"
  }
 },
 "nbformat": 4,
 "nbformat_minor": 5
}
